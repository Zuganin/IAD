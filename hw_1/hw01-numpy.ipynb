{
 "cells": [
  {
   "cell_type": "markdown",
   "metadata": {},
   "source": [
    "## Домашнее задание 1 (5 баллов)\n",
    "\n",
    "Все задания ниже имеют равный вес (5/10)."
   ]
  },
  {
   "cell_type": "markdown",
   "metadata": {},
   "source": [
    "### О задании\n",
    "\n",
    "В этом домашнем задании вы попрактикуетесь в работе с библиотекой numpy, которая позволяет сравнительно легко и удобно выполнять разнообразные вычисления, избегая самостоятельной реализации поэлементной обработки."
   ]
  },
  {
   "cell_type": "markdown",
   "metadata": {},
   "source": [
    "Во всех задачах необходимо написать код решения внутри функции и убедиться, что она работает, с помощью [assert](https://python-reference.readthedocs.io/en/latest/docs/statements/assert.html) на выражение с использованием этой функции для данных из условия.\n",
    "\n",
    "При решении задач запрещается использовать циклы (`for`, `while`) и оператор `if`. Да, `map`, `reduce`, `filter` и любые другие \"чисто питоновские\" конструкции тоже запрещены. **Используйте только функционал numpy**.\n",
    "\n",
    "Везде, где встречаются массивы или матрицы, подразумевается, что это `numpy.array`.\n",
    "\n",
    "**numpy reference:** https://numpy.org/doc/stable/reference/index.html"
   ]
  },
  {
   "cell_type": "code",
   "execution_count": null,
   "metadata": {
    "pycharm": {
     "name": "#%%\n"
    }
   },
   "outputs": [],
   "source": [
    "import numpy as np"
   ]
  },
  {
   "cell_type": "markdown",
   "metadata": {},
   "source": [
    "### Задание 1\n",
    "\n",
    "Напишите функцию, возвращающую округленную взвешенную сумму оценок по данным оценкам и весам. Можете посчитать свою оценку за курс :) В нашем случае вес экзамена равен 0.3, вес домашек - 0.4, вес контрольной - 0.2, вес самостоятельных - 0.1. Например, если за экзамен у вас 7, за домашки 10, за контрольную 8, а за самостоятельные 6, то вы получите отличную оценку 8!\n",
    "\n",
    "Обратите внимание, что на вход приходит всегда двумерный массив. В нем в каждой строке - окенки одного конкретного студента. От вас требуется вернуть итоговую оценку для всех студентов в массиве."
   ]
  },
  {
   "cell_type": "code",
   "execution_count": null,
   "metadata": {},
   "outputs": [],
   "source": [
    "def result_mark(weights: np.array, marks: np.array) -> int:\n",
    "    results = weights * marks\n",
    "    return np.round(np.sum(results, axis=1))"
   ]
  },
  {
   "cell_type": "code",
   "execution_count": null,
   "metadata": {},
   "outputs": [
    {
     "name": "stdout",
     "output_type": "stream",
     "text": [
      "[8. 7.]\n"
     ]
    }
   ],
   "source": [
    "weights = np.array([0.3, 0.4, 0.2, 0.1])\n",
    "marks = np.array([[7, 10, 8, 6], [6, 9, 7, 6]])\n",
    "print(result_mark(weights, marks))\n",
    "assert np.allclose(result_mark(weights, marks), np.array([8, 7]))"
   ]
  },
  {
   "cell_type": "code",
   "execution_count": null,
   "metadata": {},
   "outputs": [],
   "source": [
    "weights = np.array([0.3, 0.4, 0.2, 0.1])\n",
    "marks = np.array([[7, 0, 8, 6]])\n",
    "\n",
    "assert np.allclose(result_mark(weights, marks), np.array([4]))"
   ]
  },
  {
   "cell_type": "markdown",
   "metadata": {},
   "source": [
    "### Задание 2\n",
    "\n",
    "Напишите функцию, которая каждое четное число в массиве заменяет на его квадрат (вторую степень), а нечетное - на его синус. Округлите все значения в итоговом массиве до двух знаков после запятой."
   ]
  },
  {
   "cell_type": "code",
   "execution_count": null,
   "metadata": {},
   "outputs": [],
   "source": [
    "def change_array(array: np.array) -> np.array:\n",
    "    return np.round( np.where(array % 2 ==0 , array **2, np.sin(array)) , 2)"
   ]
  },
  {
   "cell_type": "code",
   "execution_count": null,
   "metadata": {},
   "outputs": [],
   "source": [
    "array = np.array([2, 5, 1, 0, -6, 22, 213431])\n",
    "\n",
    "assert np.allclose(change_array(array), np.array([4.0, -0.96, 0.84, 0.0, 36.0, 484.0, -0.58]))"
   ]
  },
  {
   "cell_type": "code",
   "execution_count": null,
   "metadata": {},
   "outputs": [],
   "source": [
    "array = np.array([3, 12, 15, -97, 6])\n",
    "\n",
    "assert np.allclose(change_array(array), np.array([0.14, 144.0, 0.65, -0.38, 36.0]))"
   ]
  },
  {
   "cell_type": "markdown",
   "metadata": {},
   "source": [
    "### Задание 3\n",
    "\n",
    "Напишите функцию, которая вычисляет разность каждого элемента с предыдущим (для самого первого считайте, что его разница с \"предыдущим\" нулевая) в виде нового массива и возвращает вектор, в котором каждый новый элемент - сумма всех предыдущих из полученного нового массива."
   ]
  },
  {
   "cell_type": "code",
   "execution_count": null,
   "metadata": {},
   "outputs": [],
   "source": [
    "def cumulative_sum_of_differences(array):\n",
    "    diffs = np.diff(array, prepend=0)\n",
    "    diffs[0] = 0\n",
    "    return np.cumsum(diffs)"
   ]
  },
  {
   "cell_type": "code",
   "execution_count": null,
   "metadata": {},
   "outputs": [],
   "source": [
    "array = np.array([3, 6, 2, 8])\n",
    "assert np.allclose(cumulative_sum_of_differences(array), np.array([0, 3, -1, 5]))"
   ]
  },
  {
   "cell_type": "code",
   "execution_count": null,
   "metadata": {},
   "outputs": [],
   "source": [
    "array = np.array([5, 1])\n",
    "\n",
    "assert np.allclose(cumulative_sum_of_differences(array), np.array([0, -4]))"
   ]
  },
  {
   "cell_type": "markdown",
   "metadata": {},
   "source": [
    "### Задание 4\n",
    "\n",
    "Напишите функцию, которая транспонирует двумерный массив, затем делает из него одномерный (reshape), переводит все элементы массива в *int8* и выводит его отсортированным по убыванию."
   ]
  },
  {
   "cell_type": "code",
   "execution_count": null,
   "metadata": {},
   "outputs": [],
   "source": [
    "def flatten_and_sort_transposed(array: np.array) -> np.array:\n",
    "    array_t = np.transpose(array)\n",
    "    flattened = np.ndarray.flatten(array_t)\n",
    "    flattened =  np.int8(flattened)  \n",
    "    sorted_array = np.sort(flattened)[::-1]\n",
    "    return sorted_array\n",
    "    "
   ]
  },
  {
   "cell_type": "code",
   "execution_count": null,
   "metadata": {},
   "outputs": [],
   "source": [
    "array = np.array([[256, -10], [-381, 112]])\n",
    "\n",
    "assert np.allclose(flatten_and_sort_transposed(array), np.array([112, 0, -10, -125]))"
   ]
  },
  {
   "cell_type": "code",
   "execution_count": null,
   "metadata": {},
   "outputs": [],
   "source": [
    "array = np.array([[9, 8, 7], [3, 6, 129]])\n",
    "\n",
    "assert np.allclose(flatten_and_sort_transposed(array), np.array([ 9, 8, 7, 6, 3, -127]))"
   ]
  },
  {
   "cell_type": "markdown",
   "metadata": {},
   "source": [
    "### Задание 5\n",
    "\n",
    "Напишите функцию, которая удаляет из массива все строки, среднее значение в которых больше общего среднего значения по всему массиву."
   ]
  },
  {
   "cell_type": "code",
   "execution_count": 27,
   "metadata": {},
   "outputs": [],
   "source": [
    "def filter_rows_by_mean(array):\n",
    "    mean_values = np.mean(array, axis=1)\n",
    "    mean = np.mean(mean_values)\n",
    "    filtered_array = array[mean_values <= mean]\n",
    "    return filtered_array"
   ]
  },
  {
   "cell_type": "code",
   "execution_count": 28,
   "metadata": {},
   "outputs": [
    {
     "name": "stdout",
     "output_type": "stream",
     "text": [
      "[[1 2 3]\n",
      " [4 5 6]]\n"
     ]
    }
   ],
   "source": [
    "array = np.array([[1, 2, 3], [7, 8, 9], [4, 5, 6]])\n",
    "res = filter_rows_by_mean(array)\n",
    "print(res)\n",
    "assert res.ndim == 2\n",
    "assert np.allclose(res, np.array([[1, 2, 3], [4, 5, 6]]))"
   ]
  },
  {
   "cell_type": "code",
   "execution_count": 29,
   "metadata": {},
   "outputs": [],
   "source": [
    "array = np.array([[10, 20], [5, 5], [15, 15]])\n",
    "res = filter_rows_by_mean(array)\n",
    "\n",
    "assert res.ndim == 2\n",
    "assert np.allclose(res, np.array([[5, 5]]))"
   ]
  },
  {
   "cell_type": "markdown",
   "metadata": {},
   "source": [
    "### Задание 6\n",
    "\n",
    "Напишите функцию, которая принимает на вход число - размер массива (квадратная матрица), который заполнен по принипу щахматной доски нулями и единицами. Первой (слева сверху) идет всегда единица. Напомним, что на шахматной доске белые и черные ячейки чередуются (в данном задании чередуются нули и единицы)."
   ]
  },
  {
   "cell_type": "code",
   "execution_count": 43,
   "metadata": {},
   "outputs": [],
   "source": [
    "def create_checkerboard(number):\n",
    "    matrix = np.ones((number, number), dtype=int)\n",
    "    matrix[1::2, ::2] = 0\n",
    "    matrix[::2, 1::2] = 0\n",
    "    return matrix"
   ]
  },
  {
   "cell_type": "code",
   "execution_count": 44,
   "metadata": {},
   "outputs": [
    {
     "name": "stdout",
     "output_type": "stream",
     "text": [
      "[[1 0 1]\n",
      " [0 1 0]\n",
      " [1 0 1]]\n"
     ]
    }
   ],
   "source": [
    "number = 3\n",
    "print(create_checkerboard(number))\n",
    "assert np.allclose(create_checkerboard(number) - np.array([[1, 0, 1], [0, 1, 0], [1, 0, 1]]), np.zeros((number, number)))"
   ]
  },
  {
   "cell_type": "code",
   "execution_count": 45,
   "metadata": {},
   "outputs": [],
   "source": [
    "number = 4\n",
    "\n",
    "assert np.allclose(create_checkerboard(number) - np.array([[1, 0, 1, 0], [0, 1, 0, 1], [1, 0, 1, 0], [0, 1, 0, 1]]), np.zeros((number, number)))"
   ]
  },
  {
   "cell_type": "markdown",
   "metadata": {},
   "source": [
    "### Задание 7\n",
    "\n",
    "Напишите функцию, которая соритрует строки двумерного массива по значению в первом (начиная с нуля) столбце (по возрастанию)."
   ]
  },
  {
   "cell_type": "code",
   "execution_count": 65,
   "metadata": {},
   "outputs": [],
   "source": [
    "def sort_rows_by_second_column(array):\n",
    "    idx = np.argsort(array[:,1])\n",
    "    return array[idx]"
   ]
  },
  {
   "cell_type": "code",
   "execution_count": 66,
   "metadata": {},
   "outputs": [
    {
     "name": "stdout",
     "output_type": "stream",
     "text": [
      "[[ 7  1]\n",
      " [10  2]\n",
      " [ 3  5]]\n"
     ]
    }
   ],
   "source": [
    "array = np.array([[10, 2], [3, 5], [7, 1]])\n",
    "print(sort_rows_by_second_column(array))\n",
    "assert np.allclose(sort_rows_by_second_column(array), np.array([[7, 1], [10, 2], [3, 5]]))"
   ]
  },
  {
   "cell_type": "code",
   "execution_count": 67,
   "metadata": {},
   "outputs": [],
   "source": [
    "array = np.array([[5, 8, 1], [10, 3, 9], [2, 7, 0], [6, -1, 5]])\n",
    "\n",
    "assert np.allclose(sort_rows_by_second_column(array), np.array([[6, -1, 5], [10, 3, 9], [2, 7, 0], [5, 8, 1]]))"
   ]
  },
  {
   "cell_type": "markdown",
   "metadata": {},
   "source": [
    "### Задание 8\n",
    "\n",
    "Напишите функцию, которая вычисляет сумму элементов [побочной](https://ru.wikipedia.org/wiki/Квадратная_матрица) диагонали квадратной матрицы."
   ]
  },
  {
   "cell_type": "code",
   "execution_count": 81,
   "metadata": {},
   "outputs": [],
   "source": [
    "def sum_counterdiagonal_elements(array):\n",
    "    sum = np.sum(np.diagonal(np.fliplr(array)))\n",
    "    return sum"
   ]
  },
  {
   "cell_type": "code",
   "execution_count": 82,
   "metadata": {},
   "outputs": [],
   "source": [
    "array = np.array([[5, 8, 1], [10, 3, 9], [2, 7, 0]])\n",
    "\n",
    "assert sum_counterdiagonal_elements(array) == 6"
   ]
  },
  {
   "cell_type": "code",
   "execution_count": 83,
   "metadata": {},
   "outputs": [],
   "source": [
    "array = np.array([[-4, -1, -1, 7], [6, -10, 5, -9], [3, -8, 6, 8], [-1, -6, 7, -10]])\n",
    "\n",
    "assert sum_counterdiagonal_elements(array) == 3"
   ]
  },
  {
   "cell_type": "markdown",
   "metadata": {},
   "source": [
    "### Задание 9\n",
    "\n",
    "Напишите функцию, которая принимает на вход три числа (начало отрезка, конец отрезка, количество точек на отрезке). Данная функция генерирует указанное количество точек равномерно на отрезке с указанными концами (точки равноудалены друг от друга). Затем функция генерирует другой массив - натуральный логарифм от всех точек отрезка плюс единица ($ln(point + 1)$). Возвращает функция массив пар точек вида (точка на отрезке, ее логарифм). Каждое значение в возвращаемом массиве должно быть округлено до двух знаков после запятой."
   ]
  },
  {
   "cell_type": "code",
   "execution_count": 91,
   "metadata": {},
   "outputs": [],
   "source": [
    "def generate_logarithm_points(start, end, count):\n",
    "    points = np.linspace(start, end, count) \n",
    "    log = np.log(points+1)\n",
    "    result = np.column_stack((points, log))\n",
    "    return np.round(result,2)"
   ]
  },
  {
   "cell_type": "code",
   "execution_count": 92,
   "metadata": {},
   "outputs": [],
   "source": [
    "start = 1\n",
    "end = 10\n",
    "count = 5\n",
    "\n",
    "assert np.allclose(generate_logarithm_points(start, end, count), np.array([[1., 0.69], [3.25, 1.45], [5.5 , 1.87], [7.75, 2.17], [10., 2.4]]))"
   ]
  },
  {
   "cell_type": "code",
   "execution_count": 93,
   "metadata": {},
   "outputs": [],
   "source": [
    "start = 5\n",
    "end = 12\n",
    "count = 4\n",
    "\n",
    "assert np.allclose(generate_logarithm_points(start, end, count), np.array([[5., 1.79], [7.33, 2.12], [9.67, 2.37], [12., 2.56]]))"
   ]
  },
  {
   "cell_type": "markdown",
   "metadata": {},
   "source": [
    "### Задание 10\n",
    "\n",
    "Напишите функцию, которая нормализует входной двумерный массив. \n",
    "\n",
    "Под нормализацией в данном задании подразумевается перевод всех чисел массива на отрезок $[0; 1]$. Очевидно, недостаточно просто вычесть/прибавить лишнее, чтобы остались числа на нужном отрезке. Суть нормализации массива в том, чтобы не потерять информацию о его элементах и их соотношениях. Потому, необходимо сохранить пропорции расстояний между каждым числом - спроецировать все точки на указанный отрезок. Такой метод масштабирования массива называется MinMaxScaling. Само название дает подсказку, как нужно решить задачу. Дробные числа округляйте до двух знаков после запятой.\n",
    "\n",
    "*Будьте осторожны с делением...*"
   ]
  },
  {
   "cell_type": "code",
   "execution_count": 94,
   "metadata": {},
   "outputs": [],
   "source": [
    "def min_max_scale(array):\n",
    "    min = np.min(array)\n",
    "    max = np.max(array)\n",
    "    scaled_array = (array - min) / (max - min)\n",
    "    return np.round(scaled_array, 2)"
   ]
  },
  {
   "cell_type": "code",
   "execution_count": 95,
   "metadata": {},
   "outputs": [],
   "source": [
    "array = np.array([[1, 2, 3], [4, 5, 6], [7, 8, 9]])\n",
    "\n",
    "assert np.allclose(min_max_scale(array), np.array([[0. , 0.12, 0.25], [0.38, 0.5 , 0.62], [0.75, 0.88, 1.]]))"
   ]
  },
  {
   "cell_type": "code",
   "execution_count": 96,
   "metadata": {},
   "outputs": [],
   "source": [
    "array = np.array([[0, 1, 2], [3, 4, 5]])\n",
    "\n",
    "assert np.allclose(min_max_scale(array), np.array([[0., 0.2, 0.4], [0.6, 0.8, 1.]]))"
   ]
  },
  {
   "cell_type": "code",
   "execution_count": null,
   "metadata": {},
   "outputs": [],
   "source": []
  }
 ],
 "metadata": {
  "kernelspec": {
   "display_name": ".venv",
   "language": "python",
   "name": "python3"
  },
  "language_info": {
   "codemirror_mode": {
    "name": "ipython",
    "version": 3
   },
   "file_extension": ".py",
   "mimetype": "text/x-python",
   "name": "python",
   "nbconvert_exporter": "python",
   "pygments_lexer": "ipython3",
   "version": "3.11.9"
  }
 },
 "nbformat": 4,
 "nbformat_minor": 2
}
