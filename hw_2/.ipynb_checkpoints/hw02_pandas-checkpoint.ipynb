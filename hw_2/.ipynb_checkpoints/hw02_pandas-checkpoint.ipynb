{
 "cells": [
  {
   "cell_type": "markdown",
   "metadata": {
    "_uuid": "21c25e4f8bb31570029fd6b069131a5d00f84cf1"
   },
   "source": [
    "# Домашнее задание 2 (5 баллов).\n",
    "\n",
    "*Все задания ниже имеют равный вес (5/10)*"
   ]
  },
  {
   "cell_type": "markdown",
   "metadata": {},
   "source": [
    "Код для импорта мы написали за вас (не благодарите, нам не трудно). Дальше код будете писать вы. \n",
    "\n",
    "[Тут](https://habr.com/ru/companies/ruvds/articles/494720/) шпора по pandas. За основу домашнего задания взят ноутбук [отсюда](https://rutube.ru/video/f884aa6ed5f94120b7304506042fe5bb/) (не подглядывайте!)."
   ]
  },
  {
   "cell_type": "code",
   "execution_count": null,
   "metadata": {
    "_uuid": "568eb2d31004b87d22e119112ae01a1e75105f1d"
   },
   "outputs": [],
   "source": [
    "import pandas as pd\n",
    "import numpy as np"
   ]
  },
  {
   "cell_type": "markdown",
   "metadata": {},
   "source": [
    "#### Описание данных\n",
    "\n",
    "Автор д/з - плохой человек, который не стал переводить описание с мотивировкой, что весь DS на английском. Так что описание полей будет на английском:\n",
    "\n",
    "1. Account ID\n",
    "- Description: A unique identifier for each social media account in the dataset.\n",
    "- Type: Integer\n",
    "- Example: 1, 2, 3, …\n",
    "2. Username\n",
    "- Description: The username or handle of the social media account.\n",
    "- Type: String\n",
    "- Example: john_doe, tech_guru_22, fitness_freak\n",
    "3. Platform\n",
    "- Description: The social media platform the account is using (Instagram, Twitter, Facebook, TikTok, LinkedIn).\n",
    "- Type: Categorical (String)\n",
    "- Example: Instagram, Twitter, Facebook, TikTok, LinkedIn\n",
    "4. Follower Count\n",
    "- Description: The total number of followers the account has.\n",
    "- Type: Integer\n",
    "- Example: 1500, 245000, 78000\n",
    "5. Posts Per Week\n",
    "- Description: The average number of posts the account creates per week.\n",
    "- Type: Integer\n",
    "- Example: 3, 5, 7\n",
    "6. Engagement Rate\n",
    "- Description: The percentage of interactions (likes, comments, shares) relative to the follower count. This is a measure of how engaging the content is.\n",
    "- Type: Float\n",
    "- Range: 0.01 to 0.15\n",
    "- Example: 0.045 (4.5% engagement rate)\n",
    "7. Ad Spend (USD)\n",
    "- Description: The monthly amount spent on advertising or promoting posts.\n",
    "- Type: Float\n",
    "- Example: 150.75, 850.00, 300.50\n",
    "8. Conversion Rate\n",
    "- Description: The percentage of users who take a desired action (e.g., clicking a link, signing up, etc.) after interacting with an ad.\n",
    "- Type: Float\n",
    "- Range: 0.01 to 0.05 (1% to 5% conversion rate)\n",
    "- Example: 0.025 (2.5% conversion rate)\n",
    "9. Campaign Reach\n",
    "- Description: The total number of unique users reached by the user’s campaigns in a given month.\n",
    "- Type: Integer\n",
    "- Example: 5000, 20000, 15000"
   ]
  },
  {
   "cell_type": "markdown",
   "metadata": {},
   "source": [
    "#### Задание 0\n",
    "\n",
    "Подгрузите данные. Да-да, за чтение таблицы баллов не будет))\n",
    "\n",
    "**Hint**: [pd.read_csv](https://pandas.pydata.org/pandas-docs/stable/reference/api/pandas.read_csv.html)"
   ]
  },
  {
   "cell_type": "code",
   "execution_count": null,
   "metadata": {},
   "outputs": [],
   "source": [
    "df = ... # ^⨀ᴥ⨀^"
   ]
  },
  {
   "cell_type": "code",
   "execution_count": null,
   "metadata": {},
   "outputs": [],
   "source": [
    "df = pd.read_csv(\"data.csv\")\n",
    "df.head()"
   ]
  },
  {
   "cell_type": "markdown",
   "metadata": {},
   "source": [
    "#### Задание 1\n",
    "\n",
    "Колонка `Platform` содержит название различных платформ. Давайте представим, что в них есть некоторое отношение порядка. Закодируйте каждую платформу целым числом (от 0 до N) и положите этот \"код\" в новую колонку `Platform_Code`. Теперь вычислите корреляцию Спирмена между всеми парами колонок в датасете (результатом будет таблица корреляций). В качестве ответа выведите значение корреляции `Platform_Code` с `Engagement Rate`. Можете после вывода числа еще коротко написать, что оно означает (нет, это не оценивается).\n",
    "\n",
    "**Hint**: [pd.factorize](https://pandas.pydata.org/pandas-docs/stable/reference/api/pandas.factorize.html), [pd.DataFrame.select_dtypes](https://pandas.pydata.org/pandas-docs/stable/reference/api/pandas.DataFrame.select_dtypes.html), [pd.DataFrame.corr](https://pandas.pydata.org/pandas-docs/stable/reference/api/pandas.DataFrame.corr.html)."
   ]
  },
  {
   "cell_type": "code",
   "execution_count": null,
   "metadata": {},
   "outputs": [],
   "source": [
    "# ( ੭ ･ᴗ･ )੭\n",
    "platform_code = pd.factorize(df[\"Platform\"])[0]\n",
    "df[\"Platform_Code\"] = platform_code\n",
    "df.head()"
   ]
  },
  {
   "cell_type": "code",
   "execution_count": null,
   "metadata": {},
   "outputs": [],
   "source": [
    "\n",
    "corr = df.select_dtypes(include= [np.number]).corr(method='spearman')\n",
    "print(corr)"
   ]
  },
  {
   "cell_type": "code",
   "execution_count": null,
   "metadata": {},
   "outputs": [],
   "source": [
    "print(corr['Engagement Rate']['Platform_Code'])"
   ]
  },
  {
   "cell_type": "markdown",
   "metadata": {},
   "source": [
    "Такая маленькая корреляция озночнает, что связь между этими парарметрами прямая и слабая."
   ]
  },
  {
   "cell_type": "markdown",
   "metadata": {},
   "source": [
    "#### Задание 2\n",
    "\n",
    "Теперь посмотрите на столбец `Follower Count`. В нем какие-то числа. Иногда бывает полезно провести дискретизацию такого признака. Разбейте все значения в столбце на 4 группы: \"Low\", \"Medium\", \"High\", \"Very High\". Каждая группа включает в себя новые 25% данных. То есть, Low включает в себя 25% самых маленьких значений признака и так далее. Положите значения \"Low\", \"Medium\", \"High\" или \"Very High\" для каждого сэмпла датасета в новую колонку `Follower_Bin`. Теперь посчитайте среднее значение `Engagement Rate` для каждой категории из `Follower_Bin`. В качестве ответа выведите значение для категории \"High\".\n",
    "\n",
    "**Hint**: [pd.qcut](https://pandas.pydata.org/pandas-docs/stable/reference/api/pandas.qcut.html), [pd.groupby](https://pandas.pydata.org/pandas-docs/stable/reference/api/pandas.DataFrame.groupby.html), [pd.DataFrame.mean](https://pandas.pydata.org/pandas-docs/stable/reference/api/pandas.DataFrame.mean.html)"
   ]
  },
  {
   "cell_type": "code",
   "execution_count": null,
   "metadata": {},
   "outputs": [],
   "source": [
    "# (◕^^◕)\n",
    "df['Follower Count'].head()\n"
   ]
  },
  {
   "cell_type": "code",
   "execution_count": null,
   "metadata": {},
   "outputs": [],
   "source": [
    "df['Follower_Bin'] = pd.qcut(    df['Follower Count'],\n",
    "    q=4,\n",
    "    labels=['Low', 'Medium', 'High', 'Very High']\n",
    ")\n",
    "print(df[['Follower Count', 'Follower_Bin']].head())"
   ]
  },
  {
   "cell_type": "code",
   "execution_count": null,
   "metadata": {},
   "outputs": [],
   "source": [
    "means_engagement = df.groupby('Follower_Bin')['Engagement Rate'].mean()\n",
    "print(means_engagement['High'])"
   ]
  },
  {
   "cell_type": "markdown",
   "metadata": {},
   "source": [
    "#### Задание 3\n",
    "\n",
    "Иногда бывает полезно превратить широкую таблицу в длинную (например, для визуализаций сразу нескольких признаков на одной картинке). Да, звучит странно, но именно этим вы сейчас и займетесь. Сделайте новый датафрейм `melted_df`, в который вы поместите каждый сэмпл датасета 6 раз: по одному разу на значение из 'Follower Count', 'Posts Per Week', 'Ad Spend (USD)', 'Conversion Rate', 'Engagement Rate' и 'Campaign Reach'. То есть, вы берете сэмпл из датасета (строку) и превращаете ее в 6 отдельных строк. Каждая отдельная строка в столбце `Metric` имеет имя из предложенного списка 5 признаков, а в столбце `Value` - значение данного сэмпла по этому признаку. Значение `Platform` повторяется в этих 6 строках.\n",
    "\n",
    "Иначе говоря, \n",
    "\n",
    "```json\n",
    "{\n",
    "    \"Account ID\": 1,\n",
    "    \"Username\": \"harrislisa\",\n",
    "    \"Platform\": \"TikTok\",\n",
    "    \"Follower Count\": 54217,\n",
    "    \"Posts Per Week\": 3,\n",
    "    \"Engagement Rate\": 0.0986,\n",
    "    \"Ad Spend (USD)\": 538.1,\n",
    "    \"Conversion Rate\": 0.049,\n",
    "    \"Campaign Reach\": 1308,\n",
    "    \"Platform_Code\": 0,\n",
    "    \"Follower_Bin\": \"Low\"\n",
    "}\n",
    "```\n",
    "\n",
    "превращается в \n",
    "\n",
    "```json\n",
    "{\n",
    "    \"Platform\": \"TikTok\",\n",
    "    \"Metric\": \"Follower Count\",\n",
    "    \"Value\": 54217,\n",
    "},\n",
    "{\n",
    "    \"Platform\": \"TikTok\",\n",
    "    \"Metric\": \"Posts Per Week\",\n",
    "    \"Value\": 3,\n",
    "}, ...\n",
    "```\n",
    "\n",
    "Для каждого уникальной пары значений (`Platform`, `Metric`) посчитайте моду среди всех значений `Value` для этой пары, результат сделайте списком и оставьте только наибольшее. В качестве ответа выведите сумму полученных мод (сумму всех значений в столбце `Value` уже после вычисления мод). Иначе говоря, выведите сумму всех мод значений для всех уникальных пар (`Platform`, `Metric`).\n",
    "\n",
    "**Hint**: [pd.melt](https://pandas.pydata.org/pandas-docs/stable/reference/api/pandas.melt.html), [pd.DataFrame.mode](https://pandas.pydata.org/pandas-docs/stable/reference/api/pandas.DataFrame.mode.html), [pd.DataFrameGroupBy.agg](https://pandas.pydata.org/docs/dev/reference/api/pandas.core.groupby.DataFrameGroupBy.agg.html)"
   ]
  },
  {
   "cell_type": "code",
   "execution_count": null,
   "metadata": {},
   "outputs": [],
   "source": [
    "# (づ๑•ᴗ•๑)づ♡\n",
    "melted_df = df.melt(\n",
    "    id_vars=['Platform'],\n",
    "    value_vars=[\n",
    "        'Follower Count',\n",
    "        'Posts Per Week',\n",
    "        'Engagement Rate',\n",
    "        'Ad Spend (USD)',\n",
    "        'Conversion Rate'\n",
    "        ],\n",
    "        var_name='Metric',\n",
    "        value_name='Value')\n",
    "melted_df.sample(5)\n"
   ]
  },
  {
   "cell_type": "code",
   "execution_count": null,
   "metadata": {},
   "outputs": [],
   "source": [
    "modes = melted_df.groupby(['Platform', 'Metric'])['Value'].agg(lambda x : x.mode().max())\n",
    "print(modes.sum)"
   ]
  },
  {
   "cell_type": "markdown",
   "metadata": {},
   "source": [
    "#### Задание 4\n",
    "\n",
    "А теперь хочется посмотреть на самые популярные аккаунты на разных платформах. Для каждой платформы отсортируйте датафрейм по убыванию количества подписчиков (`Follower Count`) - да, без циклов, сразу для всех платформ сделать сортировку, а затем оставьте только первые три записи для каждой платформы - это и будут три самых популярных аккаунта для каждой платформы. В качестве ответа выведите саму таблицу и минимальное значение `Follower Count` в ней.\n",
    "\n",
    "**Hint**: к *groupby* можно применять функции - это эквивалентно применению функции к каждой \"группе\" внутри groupby-объекта. Читайте [про применение apply к датафрейму после groupby](https://pandas.pydata.org/pandas-docs/stable/user_guide/groupby.html#flexible-apply)."
   ]
  },
  {
   "cell_type": "code",
   "execution_count": null,
   "metadata": {},
   "outputs": [],
   "source": [
    "# ε(´סּ︵סּ`)з\n",
    "sorted_df = df.sort_values(\n",
    "    ['Platform', 'Follower Count'],\n",
    "    ascending=[True, False]\n",
    ").groupby('Platform').head(3)\n",
    "sorted_df['Follower Count'].min()"
   ]
  },
  {
   "cell_type": "markdown",
   "metadata": {},
   "source": [
    "#### Задание 5\n",
    "\n",
    "Хочется посчитать какую-то метрику. Мы хотим посмотреть, на отношение разности суммы подписчиков аккаунтов с высокой и низкой конверсией к суммарному охвату рекламы на каждой платформе. То есть, мы делим аккаунты на две группы: высокая и низка конверсия. Затем мы смотрим на то, на сколько сильно влияние аккаунтов с высокой конверсией по сравнению с аккаунтами с низкой конверсией. \n",
    "\n",
    "Давайте определим *Conversion Influence* следущим образом:\n",
    "\n",
    "$$Conversion Influence = \\frac{Total Follower\\ Count (High) - Total Follower\\ Count (Low)}{Total Campaign Reach (High)+Total Campaign Reach (Low)}$$\n",
    "\n",
    "Считать эту метрику мы будет для каждой `Platform`. В этой формуле High - это значения всех сэмплов датасета, в которых `Conversion Rate` больше медианы, а `Low` - не более медианы. `Total Feature` - это суммарное количество значений `Feature` либо по `High` сэмплам, либо по `Low`.\n",
    "\n",
    "Чтобы постоянно не пересчитывать, где High. где Low, сделайте новую колонку в датасете `Conversion_Category`. Положите в нее для каждой строки либо High, либо Low.\n",
    "\n",
    "Выведите платформу с самым большим `Conversion Influence`.\n",
    "\n",
    "**Hint**: данное задание не про *groupby*, а скорее про [pd.pivot_table](https://pandas.pydata.org/pandas-docs/stable/reference/api/pandas.pivot_table.html). Сделайте сводную таблицу, по которой уже можно посчитать суммы, а затем подставить их в формулы."
   ]
  },
  {
   "cell_type": "code",
   "execution_count": null,
   "metadata": {},
   "outputs": [],
   "source": [
    "# (︶ω︶)"
   ]
  },
  {
   "cell_type": "code",
   "execution_count": null,
   "metadata": {},
   "outputs": [],
   "source": [
    "median_conversion = df['Conversion Rate'].median()\n",
    "df['Conversion_Category'] = df['Conversion Rate'].apply(\n",
    "    lambda x: 'High' if x > median_conversion else 'Low'\n",
    ")\n",
    "pivot = pd.pivot_table(\n",
    "    df,\n",
    "    values=['Follower Count', 'Campaign Reach'],\n",
    "    index='Platform',\n",
    "    columns='Conversion_Category',\n",
    "    aggfunc='sum')\n",
    "pivot.head()"
   ]
  },
  {
   "cell_type": "code",
   "execution_count": null,
   "metadata": {},
   "outputs": [],
   "source": [
    "conversion_influence = (\n",
    "    (pivot['Follower Count']['High'] - pivot['Follower Count']['Low']) /\n",
    "    (pivot['Campaign Reach']['High'] + pivot['Campaign Reach']['Low'])\n",
    ")\n",
    "max_platform = conversion_influence.idxmax()\n",
    "print(f\"Платформа с максимальным Conversion Influence: {max_platform}\")\n",
    "print(conversion_influence)"
   ]
  },
  {
   "cell_type": "markdown",
   "metadata": {},
   "source": [
    "#### Задание 6\n",
    "\n",
    "Мы знаем, что вам понравилось считать метрики по формуле. Давайте закрепим этот успех. Теперь для каждой платформы посчитаем, на сколько эффективна реклама в разрезе трех последовательных записей в датасете. \n",
    "\n",
    "Для каждой платформы отсортируйте записи в порядке убывания `Posts Per Week`. Будто бы аккаунты, которые постят чаще, используют более \"активные\" стратегии по рекламе. Теперь посчитайте *скользущие суммы с окном 3* по `Campaign Reach` и `Ad Spend (USD)`. Скользящая сумма с окном N - это вы идете по массиву, берете все последовательные тройки записей и суммируете их. Для первых двух записей троек не найдется. Для них скользящее среднее - NaN, что нам не помешает. \n",
    "\n",
    "Теперь для каждого окна посчитайте \n",
    "\n",
    "$$Rolling Efficiency Ratio = \\frac{Rolling Sum of Campaign Reach}{Rolling Sum of Ad Spend}$$\n",
    "\n",
    "По сути, для каждого окна вы посчитаете сколько пользователе привлеклось за один доллар, потреченный на рекламу, в данном окне. Понятно, что значений будет столько, сколько окон. Нам интересно максимально значение такой эффективности для каждой платформы.\n",
    "\n",
    "В качестве ответа выведите название платформы с наибольшей максимальной эффективность и наименьшей (два названия, не одно, не три, ровно два).\n",
    "\n",
    "**Hint**: окна можно делать через [pd.DataFrame.rolling](https://pandas.pydata.org/pandas-docs/stable/reference/api/pandas.DataFrame.rolling.html)."
   ]
  },
  {
   "cell_type": "code",
   "execution_count": null,
   "metadata": {},
   "outputs": [],
   "source": [
    "# (◔/‿\\◔)"
   ]
  },
  {
   "cell_type": "code",
   "execution_count": null,
   "metadata": {},
   "outputs": [],
   "source": [
    "sorted_values = df.sort_values('Posts Per Week', ascending=False).groupby('Platform')\n",
    "RollingEfficiency = sorted_values.apply(\n",
    "    lambda x: ((x['Campaign Reach'].rolling(3).sum()) /\n",
    "              (x['Ad Spend (USD)'].rolling(3).sum())).max(),\n",
    "    include_groups=False\n",
    ")\n",
    "RollingEfficiency = RollingEfficiency.rename('Rolling Efficiency')\n",
    "RollingEfficiency"
   ]
  },
  {
   "cell_type": "code",
   "execution_count": null,
   "metadata": {},
   "outputs": [],
   "source": [
    "RollingEfficiency.idxmax(), RollingEfficiency.idxmin()"
   ]
  },
  {
   "cell_type": "markdown",
   "metadata": {},
   "source": [
    "#### Задание 7\n",
    "\n",
    "Это еще не все прекрасные функции pandas, которые мы хотим вам показать. Теперь вы посчитаете, сколько аккаунтов на каждой платформе одновременно лучшие по `Engagement Rate` и `Conversion Rate`.\n",
    "\n",
    "Сделайте два отдельных суб-сета. В одном оставьте для каждой платфмормы один топовый аккаунт по `Engagement Rate`, в другом - по `Conversion Rate`. Соедините эти два подмножества по столбцу `Platform` так, что в одно строке есть описание сразу двух аккаунтов-лидеров. Теперь посмотрите равны ли имена аккаунтов в одной строке. Выведите количество строк, в которых названия аккаунтов совпадают."
   ]
  },
  {
   "cell_type": "code",
   "execution_count": null,
   "metadata": {},
   "outputs": [],
   "source": [
    "# ( ͡° ͜ʖ ͡°)\n",
    "sub1 = df.loc[df.groupby('Platform')['Engagement Rate'].idxmax()]\n",
    "sub1 = sub1[['Platform', 'Username']].rename(columns={'Username': 'Top account by Engagement'})\n",
    "sub1.head()\n",
    "\n"
   ]
  },
  {
   "cell_type": "code",
   "execution_count": null,
   "metadata": {},
   "outputs": [],
   "source": [
    "sub2 = df.loc[df.groupby('Platform')['Conversion Rate'].idxmax()]\n",
    "sub2 = sub2[['Platform', 'Username']].rename(columns={'Username': 'Top account by Conversion'})\n",
    "sub2.head()"
   ]
  },
  {
   "cell_type": "code",
   "execution_count": null,
   "metadata": {},
   "outputs": [],
   "source": [
    "merged = pd.merge(sub1, sub2, on='Platform')\n",
    "matches = (merged['Top account by Engagement'] == merged['Top account by Conversion']).sum()\n",
    "print(f\"Количество совпадений: {matches}\")"
   ]
  },
  {
   "cell_type": "markdown",
   "metadata": {},
   "source": [
    "#### Задание 8\n",
    "\n",
    "Давайте теперь что-то попроще сделаем. Например, посчитаем отношение суммарного количества подписчиков на аккаунтах с высокой конверсией к такой же сумме в аккаунтах с низкой конверсией (очевидно, для каждой платформы). По сути, мы просто хотим получить число, которое характеризует, на сколько сильно аккаунты с высокой конверсией \"доминируют\" над аккаунтами с низкой конверсией в плане количества подписчиков.\n",
    "\n",
    "Высокой конверсией будем считать конверсию больше средней. Остальное - низкая. Посчитайте суммы подписчиков для каждой платформы, поделите одно на другое и выведите разницу между самым большим значением и самым маленьким, а также платформы, которые соотвутствуют этим значениям.\n",
    "\n",
    "Используйте магическую команду `%%time`, чтобы замерить, сколько времени ушло на исполнение вашего pandas-скрипта."
   ]
  },
  {
   "cell_type": "code",
   "execution_count": null,
   "metadata": {},
   "outputs": [],
   "source": [
    "df"
   ]
  },
  {
   "cell_type": "code",
   "execution_count": null,
   "metadata": {},
   "outputs": [],
   "source": [
    "import IPython\n",
    "print(IPython.__version__)\n"
   ]
  },
  {
   "cell_type": "code",
   "execution_count": null,
   "metadata": {},
   "outputs": [],
   "source": [
    "# (◡‿◡✿)\n",
    "%%time\n",
    "mean_conversion = df['Conversion Rate'].mean()\n",
    "conversion_high = df[df['Conversion Rate'] > mean_conversion]\n",
    "conversion_low = df[df['Conversion Rate'] < mean_conversion]\n",
    "high_sum = conversion_high.groupby('Platform')['Follower Count'].sum()\n",
    "low_sum = conversion_low.groupby('Platform')['Follower Count'].sum()\n",
    "ratio = high_sum / low_sum\n",
    "max_ratio = ratio.max()\n",
    "min_ratio = ratio.min()\n",
    "difference = max_ratio - min_ratio\n",
    "max_platform = ratio.idxmax()\n",
    "min_platform = ratio.idxmin()\n",
    "print(f\"Разность: {difference}\")\n",
    "print(f\"Максимум: {max_platform}, Минимум: {min_platform}\")\n"
   ]
  },
  {
   "cell_type": "markdown",
   "metadata": {},
   "source": [
    "#### Задание 9\n",
    "\n",
    "А теперь решите задание 8 чисто питоном. Никаких функций и методов pandas. Только питоновские циклы. Замерьте время выполнения кода. Наконец, сравните время в задании 8 и 9. Напишите ниже, кто же победил: чистый python и pandas?\n",
    "\n",
    "**Hint**: Чтобы итерироваться по датафрейму, можно из него сделать генератор через [pd.DataFrame.iterrows](https://pandas.pydata.org/pandas-docs/stable/reference/api/pandas.DataFrame.iterrows.html) или [pd.DataFrame.itertuples](https://pandas.pydata.org/pandas-docs/stable/reference/api/pandas.DataFrame.itertuples.html#pandas.DataFrame.itertuples). К слову, это не все способы итерироваться по датафрейму."
   ]
  },
  {
   "cell_type": "code",
   "execution_count": null,
   "metadata": {},
   "outputs": [],
   "source": [
    "# (✿◠‿◠)\n"
   ]
  },
  {
   "cell_type": "markdown",
   "metadata": {},
   "source": [
    "**А победителем является**: <А ТУТ МОЙ ОТВЕТ, Я ЗАМЕТИЛ, ЧТО В ЗАДАНИИ НУЖНО ЕЩЕ ЧТО-ТО НАПИСАТЬ ПОСЛЕ КОДА, ИНАЧЕ НЕ ПОЛУЧУ ПОЛНЫЙ БАЛЛ ЗА ЗАДАНИЕ>"
   ]
  },
  {
   "cell_type": "markdown",
   "metadata": {},
   "source": [
    "#### Задание 10\n",
    "\n",
    "Крайне серьезное задание. Отнеситесь к нему соответствующе. В ячейке ниже напишите ваш любимый анекдот или мем (только без баянов, окей?). Можно плохие. Помните, это задание на полный балл. Проверяющий работу ассистент должен улыбнуться.\n",
    "\n",
    "Если вставляете картинку, то убедитесь, что вы ее не подгружаете локально. А то будет неудобно - потерять балл на этом задании, когда надо было выложить картинку на облако и прокинуть ссылку. И нет, нельзя сюда просто ссылку вставить. Либо ищите, как вставить картинку, либо смешной анекдот. Есть всего два стула - выбирайте..."
   ]
  },
  {
   "cell_type": "code",
   "execution_count": null,
   "metadata": {},
   "outputs": [
    {
     "name": "stderr",
     "output_type": "stream",
     "text": [
      "UsageError: Line magic function `%%time` not found.\n"
     ]
    }
   ],
   "source": [
    "# ‿( ́ ̵ _-`)‿\n"
   ]
  },
  {
   "cell_type": "markdown",
   "metadata": {},
   "source": []
  }
 ],
 "metadata": {
  "kernelspec": {
   "display_name": ".venv",
   "language": "python",
   "name": "python3"
  },
  "language_info": {
   "codemirror_mode": {
    "name": "ipython",
    "version": 3
   },
   "file_extension": ".py",
   "mimetype": "text/x-python",
   "name": "python",
   "nbconvert_exporter": "python",
   "pygments_lexer": "ipython3",
   "version": "3.11.9"
  }
 },
 "nbformat": 4,
 "nbformat_minor": 1
}
